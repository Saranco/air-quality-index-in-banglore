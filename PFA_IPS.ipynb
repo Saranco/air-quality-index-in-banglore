{
  "cells": [
    {
      "cell_type": "markdown",
      "id": "d4ccec77",
      "metadata": {
        "id": "d4ccec77"
      },
      "source": [
        "## Exploratory Data Analysis "
      ]
    },
    {
      "cell_type": "code",
      "execution_count": null,
      "id": "a247018d",
      "metadata": {
        "id": "a247018d"
      },
      "outputs": [],
      "source": [
        "import pandas as pd"
      ]
    },
    {
      "cell_type": "code",
      "execution_count": null,
      "id": "cf0ed392",
      "metadata": {
        "id": "cf0ed392"
      },
      "outputs": [],
      "source": [
        "import numpy as np"
      ]
    },
    {
      "cell_type": "code",
      "execution_count": null,
      "id": "d959803a",
      "metadata": {
        "id": "d959803a"
      },
      "outputs": [],
      "source": [
        "import matplotlib.pyplot as plt"
      ]
    },
    {
      "cell_type": "code",
      "execution_count": null,
      "id": "c5f58872",
      "metadata": {
        "id": "c5f58872"
      },
      "outputs": [],
      "source": [
        "import seaborn as sns"
      ]
    },
    {
      "cell_type": "code",
      "execution_count": null,
      "id": "fb4c082e",
      "metadata": {
        "id": "fb4c082e"
      },
      "outputs": [],
      "source": [
        "data= pd.read_csv('train_aqi.csv')"
      ]
    },
    {
      "cell_type": "code",
      "execution_count": null,
      "id": "0eaaefae",
      "metadata": {
        "id": "0eaaefae",
        "outputId": "deb91fc2-820e-440d-a599-937c89fc580c"
      },
      "outputs": [
        {
          "data": {
            "text/html": [
              "<div>\n",
              "<style scoped>\n",
              "    .dataframe tbody tr th:only-of-type {\n",
              "        vertical-align: middle;\n",
              "    }\n",
              "\n",
              "    .dataframe tbody tr th {\n",
              "        vertical-align: top;\n",
              "    }\n",
              "\n",
              "    .dataframe thead th {\n",
              "        text-align: right;\n",
              "    }\n",
              "</style>\n",
              "<table border=\"1\" class=\"dataframe\">\n",
              "  <thead>\n",
              "    <tr style=\"text-align: right;\">\n",
              "      <th></th>\n",
              "      <th>date_time</th>\n",
              "      <th>is_holiday</th>\n",
              "      <th>humidity</th>\n",
              "      <th>wind_speed</th>\n",
              "      <th>wind_direction</th>\n",
              "      <th>visibility_in_miles</th>\n",
              "      <th>dew_point</th>\n",
              "      <th>temperature</th>\n",
              "      <th>rain_p_h</th>\n",
              "      <th>snow_p_h</th>\n",
              "      <th>clouds_all</th>\n",
              "      <th>weather_type</th>\n",
              "      <th>air_pollution_index</th>\n",
              "      <th>traffic_volume</th>\n",
              "    </tr>\n",
              "  </thead>\n",
              "  <tbody>\n",
              "    <tr>\n",
              "      <th>0</th>\n",
              "      <td>2012-10-02 09:00:00</td>\n",
              "      <td>None</td>\n",
              "      <td>89</td>\n",
              "      <td>2</td>\n",
              "      <td>329</td>\n",
              "      <td>1</td>\n",
              "      <td>1</td>\n",
              "      <td>288.28</td>\n",
              "      <td>0.0</td>\n",
              "      <td>0.0</td>\n",
              "      <td>40</td>\n",
              "      <td>Clouds</td>\n",
              "      <td>121</td>\n",
              "      <td>5545</td>\n",
              "    </tr>\n",
              "    <tr>\n",
              "      <th>1</th>\n",
              "      <td>2012-10-02 10:00:00</td>\n",
              "      <td>None</td>\n",
              "      <td>67</td>\n",
              "      <td>3</td>\n",
              "      <td>330</td>\n",
              "      <td>1</td>\n",
              "      <td>1</td>\n",
              "      <td>289.36</td>\n",
              "      <td>0.0</td>\n",
              "      <td>0.0</td>\n",
              "      <td>75</td>\n",
              "      <td>Clouds</td>\n",
              "      <td>178</td>\n",
              "      <td>4516</td>\n",
              "    </tr>\n",
              "    <tr>\n",
              "      <th>2</th>\n",
              "      <td>2012-10-02 11:00:00</td>\n",
              "      <td>None</td>\n",
              "      <td>66</td>\n",
              "      <td>3</td>\n",
              "      <td>329</td>\n",
              "      <td>2</td>\n",
              "      <td>2</td>\n",
              "      <td>289.58</td>\n",
              "      <td>0.0</td>\n",
              "      <td>0.0</td>\n",
              "      <td>90</td>\n",
              "      <td>Clouds</td>\n",
              "      <td>113</td>\n",
              "      <td>4767</td>\n",
              "    </tr>\n",
              "    <tr>\n",
              "      <th>3</th>\n",
              "      <td>2012-10-02 12:00:00</td>\n",
              "      <td>None</td>\n",
              "      <td>66</td>\n",
              "      <td>3</td>\n",
              "      <td>329</td>\n",
              "      <td>5</td>\n",
              "      <td>5</td>\n",
              "      <td>290.13</td>\n",
              "      <td>0.0</td>\n",
              "      <td>0.0</td>\n",
              "      <td>90</td>\n",
              "      <td>Clouds</td>\n",
              "      <td>20</td>\n",
              "      <td>5026</td>\n",
              "    </tr>\n",
              "    <tr>\n",
              "      <th>4</th>\n",
              "      <td>2012-10-02 13:00:00</td>\n",
              "      <td>None</td>\n",
              "      <td>65</td>\n",
              "      <td>3</td>\n",
              "      <td>329</td>\n",
              "      <td>7</td>\n",
              "      <td>7</td>\n",
              "      <td>291.14</td>\n",
              "      <td>0.0</td>\n",
              "      <td>0.0</td>\n",
              "      <td>75</td>\n",
              "      <td>Clouds</td>\n",
              "      <td>281</td>\n",
              "      <td>4918</td>\n",
              "    </tr>\n",
              "    <tr>\n",
              "      <th>...</th>\n",
              "      <td>...</td>\n",
              "      <td>...</td>\n",
              "      <td>...</td>\n",
              "      <td>...</td>\n",
              "      <td>...</td>\n",
              "      <td>...</td>\n",
              "      <td>...</td>\n",
              "      <td>...</td>\n",
              "      <td>...</td>\n",
              "      <td>...</td>\n",
              "      <td>...</td>\n",
              "      <td>...</td>\n",
              "      <td>...</td>\n",
              "      <td>...</td>\n",
              "    </tr>\n",
              "    <tr>\n",
              "      <th>33745</th>\n",
              "      <td>2017-05-17 21:00:00</td>\n",
              "      <td>None</td>\n",
              "      <td>85</td>\n",
              "      <td>1</td>\n",
              "      <td>328</td>\n",
              "      <td>7</td>\n",
              "      <td>7</td>\n",
              "      <td>287.88</td>\n",
              "      <td>0.0</td>\n",
              "      <td>0.0</td>\n",
              "      <td>90</td>\n",
              "      <td>Mist</td>\n",
              "      <td>74</td>\n",
              "      <td>2348</td>\n",
              "    </tr>\n",
              "    <tr>\n",
              "      <th>33746</th>\n",
              "      <td>2017-05-17 22:00:00</td>\n",
              "      <td>None</td>\n",
              "      <td>70</td>\n",
              "      <td>1</td>\n",
              "      <td>24</td>\n",
              "      <td>2</td>\n",
              "      <td>2</td>\n",
              "      <td>286.95</td>\n",
              "      <td>0.0</td>\n",
              "      <td>0.0</td>\n",
              "      <td>90</td>\n",
              "      <td>Rain</td>\n",
              "      <td>81</td>\n",
              "      <td>2194</td>\n",
              "    </tr>\n",
              "    <tr>\n",
              "      <th>33747</th>\n",
              "      <td>2017-05-17 22:00:00</td>\n",
              "      <td>None</td>\n",
              "      <td>70</td>\n",
              "      <td>1</td>\n",
              "      <td>24</td>\n",
              "      <td>1</td>\n",
              "      <td>1</td>\n",
              "      <td>286.95</td>\n",
              "      <td>0.0</td>\n",
              "      <td>0.0</td>\n",
              "      <td>90</td>\n",
              "      <td>Mist</td>\n",
              "      <td>138</td>\n",
              "      <td>2194</td>\n",
              "    </tr>\n",
              "    <tr>\n",
              "      <th>33748</th>\n",
              "      <td>2017-05-17 23:00:00</td>\n",
              "      <td>None</td>\n",
              "      <td>66</td>\n",
              "      <td>1</td>\n",
              "      <td>42</td>\n",
              "      <td>6</td>\n",
              "      <td>6</td>\n",
              "      <td>285.75</td>\n",
              "      <td>0.0</td>\n",
              "      <td>0.0</td>\n",
              "      <td>90</td>\n",
              "      <td>Rain</td>\n",
              "      <td>229</td>\n",
              "      <td>1328</td>\n",
              "    </tr>\n",
              "    <tr>\n",
              "      <th>33749</th>\n",
              "      <td>2017-05-17 23:00:00</td>\n",
              "      <td>None</td>\n",
              "      <td>63</td>\n",
              "      <td>1</td>\n",
              "      <td>27</td>\n",
              "      <td>8</td>\n",
              "      <td>8</td>\n",
              "      <td>285.75</td>\n",
              "      <td>0.0</td>\n",
              "      <td>0.0</td>\n",
              "      <td>90</td>\n",
              "      <td>Mist</td>\n",
              "      <td>140</td>\n",
              "      <td>1328</td>\n",
              "    </tr>\n",
              "  </tbody>\n",
              "</table>\n",
              "<p>33750 rows × 14 columns</p>\n",
              "</div>"
            ],
            "text/plain": [
              "                 date_time is_holiday  humidity  wind_speed  wind_direction  \\\n",
              "0      2012-10-02 09:00:00       None        89           2             329   \n",
              "1      2012-10-02 10:00:00       None        67           3             330   \n",
              "2      2012-10-02 11:00:00       None        66           3             329   \n",
              "3      2012-10-02 12:00:00       None        66           3             329   \n",
              "4      2012-10-02 13:00:00       None        65           3             329   \n",
              "...                    ...        ...       ...         ...             ...   \n",
              "33745  2017-05-17 21:00:00       None        85           1             328   \n",
              "33746  2017-05-17 22:00:00       None        70           1              24   \n",
              "33747  2017-05-17 22:00:00       None        70           1              24   \n",
              "33748  2017-05-17 23:00:00       None        66           1              42   \n",
              "33749  2017-05-17 23:00:00       None        63           1              27   \n",
              "\n",
              "       visibility_in_miles  dew_point  temperature  rain_p_h  snow_p_h  \\\n",
              "0                        1          1       288.28       0.0       0.0   \n",
              "1                        1          1       289.36       0.0       0.0   \n",
              "2                        2          2       289.58       0.0       0.0   \n",
              "3                        5          5       290.13       0.0       0.0   \n",
              "4                        7          7       291.14       0.0       0.0   \n",
              "...                    ...        ...          ...       ...       ...   \n",
              "33745                    7          7       287.88       0.0       0.0   \n",
              "33746                    2          2       286.95       0.0       0.0   \n",
              "33747                    1          1       286.95       0.0       0.0   \n",
              "33748                    6          6       285.75       0.0       0.0   \n",
              "33749                    8          8       285.75       0.0       0.0   \n",
              "\n",
              "       clouds_all weather_type  air_pollution_index  traffic_volume  \n",
              "0              40       Clouds                  121            5545  \n",
              "1              75       Clouds                  178            4516  \n",
              "2              90       Clouds                  113            4767  \n",
              "3              90       Clouds                   20            5026  \n",
              "4              75       Clouds                  281            4918  \n",
              "...           ...          ...                  ...             ...  \n",
              "33745          90         Mist                   74            2348  \n",
              "33746          90         Rain                   81            2194  \n",
              "33747          90         Mist                  138            2194  \n",
              "33748          90         Rain                  229            1328  \n",
              "33749          90         Mist                  140            1328  \n",
              "\n",
              "[33750 rows x 14 columns]"
            ]
          },
          "execution_count": 6,
          "metadata": {},
          "output_type": "execute_result"
        }
      ],
      "source": [
        "data"
      ]
    },
    {
      "cell_type": "code",
      "execution_count": null,
      "id": "fb88b00e",
      "metadata": {
        "id": "fb88b00e",
        "outputId": "6c002e2a-149a-43a1-c189-ceb12241fe75"
      },
      "outputs": [
        {
          "data": {
            "text/plain": [
              "Index(['date_time', 'is_holiday', 'humidity', 'wind_speed', 'wind_direction',\n",
              "       'visibility_in_miles', 'dew_point', 'temperature', 'rain_p_h',\n",
              "       'snow_p_h', 'clouds_all', 'weather_type', 'air_pollution_index',\n",
              "       'traffic_volume'],\n",
              "      dtype='object')"
            ]
          },
          "execution_count": 7,
          "metadata": {},
          "output_type": "execute_result"
        }
      ],
      "source": [
        "data.columns"
      ]
    },
    {
      "cell_type": "code",
      "execution_count": null,
      "id": "811bbfa3",
      "metadata": {
        "id": "811bbfa3",
        "outputId": "d0c09f6b-29c1-41b4-c669-326fb6f8913e"
      },
      "outputs": [
        {
          "data": {
            "text/html": [
              "<div>\n",
              "<style scoped>\n",
              "    .dataframe tbody tr th:only-of-type {\n",
              "        vertical-align: middle;\n",
              "    }\n",
              "\n",
              "    .dataframe tbody tr th {\n",
              "        vertical-align: top;\n",
              "    }\n",
              "\n",
              "    .dataframe thead th {\n",
              "        text-align: right;\n",
              "    }\n",
              "</style>\n",
              "<table border=\"1\" class=\"dataframe\">\n",
              "  <thead>\n",
              "    <tr style=\"text-align: right;\">\n",
              "      <th></th>\n",
              "      <th>date_time</th>\n",
              "      <th>is_holiday</th>\n",
              "      <th>humidity</th>\n",
              "      <th>wind_speed</th>\n",
              "      <th>wind_direction</th>\n",
              "      <th>visibility_in_miles</th>\n",
              "      <th>dew_point</th>\n",
              "      <th>temperature</th>\n",
              "      <th>rain_p_h</th>\n",
              "      <th>snow_p_h</th>\n",
              "      <th>clouds_all</th>\n",
              "      <th>weather_type</th>\n",
              "      <th>air_pollution_index</th>\n",
              "      <th>traffic_volume</th>\n",
              "    </tr>\n",
              "  </thead>\n",
              "  <tbody>\n",
              "    <tr>\n",
              "      <th>0</th>\n",
              "      <td>2012-10-02 09:00:00</td>\n",
              "      <td>None</td>\n",
              "      <td>89</td>\n",
              "      <td>2</td>\n",
              "      <td>329</td>\n",
              "      <td>1</td>\n",
              "      <td>1</td>\n",
              "      <td>288.28</td>\n",
              "      <td>0.0</td>\n",
              "      <td>0.0</td>\n",
              "      <td>40</td>\n",
              "      <td>Clouds</td>\n",
              "      <td>121</td>\n",
              "      <td>5545</td>\n",
              "    </tr>\n",
              "    <tr>\n",
              "      <th>1</th>\n",
              "      <td>2012-10-02 10:00:00</td>\n",
              "      <td>None</td>\n",
              "      <td>67</td>\n",
              "      <td>3</td>\n",
              "      <td>330</td>\n",
              "      <td>1</td>\n",
              "      <td>1</td>\n",
              "      <td>289.36</td>\n",
              "      <td>0.0</td>\n",
              "      <td>0.0</td>\n",
              "      <td>75</td>\n",
              "      <td>Clouds</td>\n",
              "      <td>178</td>\n",
              "      <td>4516</td>\n",
              "    </tr>\n",
              "    <tr>\n",
              "      <th>2</th>\n",
              "      <td>2012-10-02 11:00:00</td>\n",
              "      <td>None</td>\n",
              "      <td>66</td>\n",
              "      <td>3</td>\n",
              "      <td>329</td>\n",
              "      <td>2</td>\n",
              "      <td>2</td>\n",
              "      <td>289.58</td>\n",
              "      <td>0.0</td>\n",
              "      <td>0.0</td>\n",
              "      <td>90</td>\n",
              "      <td>Clouds</td>\n",
              "      <td>113</td>\n",
              "      <td>4767</td>\n",
              "    </tr>\n",
              "    <tr>\n",
              "      <th>3</th>\n",
              "      <td>2012-10-02 12:00:00</td>\n",
              "      <td>None</td>\n",
              "      <td>66</td>\n",
              "      <td>3</td>\n",
              "      <td>329</td>\n",
              "      <td>5</td>\n",
              "      <td>5</td>\n",
              "      <td>290.13</td>\n",
              "      <td>0.0</td>\n",
              "      <td>0.0</td>\n",
              "      <td>90</td>\n",
              "      <td>Clouds</td>\n",
              "      <td>20</td>\n",
              "      <td>5026</td>\n",
              "    </tr>\n",
              "    <tr>\n",
              "      <th>4</th>\n",
              "      <td>2012-10-02 13:00:00</td>\n",
              "      <td>None</td>\n",
              "      <td>65</td>\n",
              "      <td>3</td>\n",
              "      <td>329</td>\n",
              "      <td>7</td>\n",
              "      <td>7</td>\n",
              "      <td>291.14</td>\n",
              "      <td>0.0</td>\n",
              "      <td>0.0</td>\n",
              "      <td>75</td>\n",
              "      <td>Clouds</td>\n",
              "      <td>281</td>\n",
              "      <td>4918</td>\n",
              "    </tr>\n",
              "    <tr>\n",
              "      <th>5</th>\n",
              "      <td>2012-10-02 14:00:00</td>\n",
              "      <td>None</td>\n",
              "      <td>65</td>\n",
              "      <td>3</td>\n",
              "      <td>328</td>\n",
              "      <td>6</td>\n",
              "      <td>6</td>\n",
              "      <td>291.72</td>\n",
              "      <td>0.0</td>\n",
              "      <td>0.0</td>\n",
              "      <td>1</td>\n",
              "      <td>Clear</td>\n",
              "      <td>23</td>\n",
              "      <td>5181</td>\n",
              "    </tr>\n",
              "    <tr>\n",
              "      <th>6</th>\n",
              "      <td>2012-10-02 15:00:00</td>\n",
              "      <td>None</td>\n",
              "      <td>64</td>\n",
              "      <td>3</td>\n",
              "      <td>328</td>\n",
              "      <td>7</td>\n",
              "      <td>7</td>\n",
              "      <td>293.17</td>\n",
              "      <td>0.0</td>\n",
              "      <td>0.0</td>\n",
              "      <td>1</td>\n",
              "      <td>Clear</td>\n",
              "      <td>184</td>\n",
              "      <td>5584</td>\n",
              "    </tr>\n",
              "    <tr>\n",
              "      <th>7</th>\n",
              "      <td>2012-10-02 16:00:00</td>\n",
              "      <td>None</td>\n",
              "      <td>64</td>\n",
              "      <td>3</td>\n",
              "      <td>327</td>\n",
              "      <td>7</td>\n",
              "      <td>7</td>\n",
              "      <td>293.86</td>\n",
              "      <td>0.0</td>\n",
              "      <td>0.0</td>\n",
              "      <td>1</td>\n",
              "      <td>Clear</td>\n",
              "      <td>167</td>\n",
              "      <td>6015</td>\n",
              "    </tr>\n",
              "    <tr>\n",
              "      <th>8</th>\n",
              "      <td>2012-10-02 17:00:00</td>\n",
              "      <td>None</td>\n",
              "      <td>63</td>\n",
              "      <td>3</td>\n",
              "      <td>327</td>\n",
              "      <td>6</td>\n",
              "      <td>6</td>\n",
              "      <td>294.14</td>\n",
              "      <td>0.0</td>\n",
              "      <td>0.0</td>\n",
              "      <td>20</td>\n",
              "      <td>Clouds</td>\n",
              "      <td>119</td>\n",
              "      <td>5791</td>\n",
              "    </tr>\n",
              "    <tr>\n",
              "      <th>9</th>\n",
              "      <td>2012-10-02 18:00:00</td>\n",
              "      <td>None</td>\n",
              "      <td>63</td>\n",
              "      <td>3</td>\n",
              "      <td>326</td>\n",
              "      <td>3</td>\n",
              "      <td>3</td>\n",
              "      <td>293.10</td>\n",
              "      <td>0.0</td>\n",
              "      <td>0.0</td>\n",
              "      <td>20</td>\n",
              "      <td>Clouds</td>\n",
              "      <td>161</td>\n",
              "      <td>4770</td>\n",
              "    </tr>\n",
              "    <tr>\n",
              "      <th>10</th>\n",
              "      <td>2012-10-02 19:00:00</td>\n",
              "      <td>None</td>\n",
              "      <td>62</td>\n",
              "      <td>3</td>\n",
              "      <td>326</td>\n",
              "      <td>8</td>\n",
              "      <td>8</td>\n",
              "      <td>290.97</td>\n",
              "      <td>0.0</td>\n",
              "      <td>0.0</td>\n",
              "      <td>20</td>\n",
              "      <td>Clouds</td>\n",
              "      <td>243</td>\n",
              "      <td>3539</td>\n",
              "    </tr>\n",
              "    <tr>\n",
              "      <th>11</th>\n",
              "      <td>2012-10-02 20:00:00</td>\n",
              "      <td>None</td>\n",
              "      <td>62</td>\n",
              "      <td>3</td>\n",
              "      <td>326</td>\n",
              "      <td>5</td>\n",
              "      <td>5</td>\n",
              "      <td>289.38</td>\n",
              "      <td>0.0</td>\n",
              "      <td>0.0</td>\n",
              "      <td>1</td>\n",
              "      <td>Clear</td>\n",
              "      <td>150</td>\n",
              "      <td>2784</td>\n",
              "    </tr>\n",
              "    <tr>\n",
              "      <th>12</th>\n",
              "      <td>2012-10-02 21:00:00</td>\n",
              "      <td>None</td>\n",
              "      <td>61</td>\n",
              "      <td>4</td>\n",
              "      <td>325</td>\n",
              "      <td>4</td>\n",
              "      <td>4</td>\n",
              "      <td>288.61</td>\n",
              "      <td>0.0</td>\n",
              "      <td>0.0</td>\n",
              "      <td>1</td>\n",
              "      <td>Clear</td>\n",
              "      <td>128</td>\n",
              "      <td>2361</td>\n",
              "    </tr>\n",
              "    <tr>\n",
              "      <th>13</th>\n",
              "      <td>2012-10-02 22:00:00</td>\n",
              "      <td>None</td>\n",
              "      <td>61</td>\n",
              "      <td>4</td>\n",
              "      <td>325</td>\n",
              "      <td>7</td>\n",
              "      <td>7</td>\n",
              "      <td>287.16</td>\n",
              "      <td>0.0</td>\n",
              "      <td>0.0</td>\n",
              "      <td>1</td>\n",
              "      <td>Clear</td>\n",
              "      <td>18</td>\n",
              "      <td>1529</td>\n",
              "    </tr>\n",
              "    <tr>\n",
              "      <th>14</th>\n",
              "      <td>2012-10-02 23:00:00</td>\n",
              "      <td>None</td>\n",
              "      <td>60</td>\n",
              "      <td>4</td>\n",
              "      <td>324</td>\n",
              "      <td>5</td>\n",
              "      <td>5</td>\n",
              "      <td>285.45</td>\n",
              "      <td>0.0</td>\n",
              "      <td>0.0</td>\n",
              "      <td>1</td>\n",
              "      <td>Clear</td>\n",
              "      <td>186</td>\n",
              "      <td>963</td>\n",
              "    </tr>\n",
              "    <tr>\n",
              "      <th>15</th>\n",
              "      <td>2012-10-03 00:00:00</td>\n",
              "      <td>None</td>\n",
              "      <td>60</td>\n",
              "      <td>4</td>\n",
              "      <td>324</td>\n",
              "      <td>2</td>\n",
              "      <td>2</td>\n",
              "      <td>284.63</td>\n",
              "      <td>0.0</td>\n",
              "      <td>0.0</td>\n",
              "      <td>1</td>\n",
              "      <td>Clear</td>\n",
              "      <td>58</td>\n",
              "      <td>506</td>\n",
              "    </tr>\n",
              "    <tr>\n",
              "      <th>16</th>\n",
              "      <td>2012-10-03 01:00:00</td>\n",
              "      <td>None</td>\n",
              "      <td>59</td>\n",
              "      <td>4</td>\n",
              "      <td>324</td>\n",
              "      <td>6</td>\n",
              "      <td>6</td>\n",
              "      <td>283.47</td>\n",
              "      <td>0.0</td>\n",
              "      <td>0.0</td>\n",
              "      <td>1</td>\n",
              "      <td>Clear</td>\n",
              "      <td>158</td>\n",
              "      <td>321</td>\n",
              "    </tr>\n",
              "    <tr>\n",
              "      <th>17</th>\n",
              "      <td>2012-10-03 02:00:00</td>\n",
              "      <td>None</td>\n",
              "      <td>59</td>\n",
              "      <td>4</td>\n",
              "      <td>323</td>\n",
              "      <td>1</td>\n",
              "      <td>1</td>\n",
              "      <td>281.18</td>\n",
              "      <td>0.0</td>\n",
              "      <td>0.0</td>\n",
              "      <td>1</td>\n",
              "      <td>Clear</td>\n",
              "      <td>166</td>\n",
              "      <td>273</td>\n",
              "    </tr>\n",
              "    <tr>\n",
              "      <th>18</th>\n",
              "      <td>2012-10-03 03:00:00</td>\n",
              "      <td>None</td>\n",
              "      <td>58</td>\n",
              "      <td>4</td>\n",
              "      <td>323</td>\n",
              "      <td>7</td>\n",
              "      <td>7</td>\n",
              "      <td>281.09</td>\n",
              "      <td>0.0</td>\n",
              "      <td>0.0</td>\n",
              "      <td>1</td>\n",
              "      <td>Clear</td>\n",
              "      <td>101</td>\n",
              "      <td>367</td>\n",
              "    </tr>\n",
              "    <tr>\n",
              "      <th>19</th>\n",
              "      <td>2012-10-03 04:00:00</td>\n",
              "      <td>None</td>\n",
              "      <td>58</td>\n",
              "      <td>4</td>\n",
              "      <td>322</td>\n",
              "      <td>4</td>\n",
              "      <td>4</td>\n",
              "      <td>279.53</td>\n",
              "      <td>0.0</td>\n",
              "      <td>0.0</td>\n",
              "      <td>1</td>\n",
              "      <td>Clear</td>\n",
              "      <td>161</td>\n",
              "      <td>814</td>\n",
              "    </tr>\n",
              "  </tbody>\n",
              "</table>\n",
              "</div>"
            ],
            "text/plain": [
              "              date_time is_holiday  humidity  wind_speed  wind_direction  \\\n",
              "0   2012-10-02 09:00:00       None        89           2             329   \n",
              "1   2012-10-02 10:00:00       None        67           3             330   \n",
              "2   2012-10-02 11:00:00       None        66           3             329   \n",
              "3   2012-10-02 12:00:00       None        66           3             329   \n",
              "4   2012-10-02 13:00:00       None        65           3             329   \n",
              "5   2012-10-02 14:00:00       None        65           3             328   \n",
              "6   2012-10-02 15:00:00       None        64           3             328   \n",
              "7   2012-10-02 16:00:00       None        64           3             327   \n",
              "8   2012-10-02 17:00:00       None        63           3             327   \n",
              "9   2012-10-02 18:00:00       None        63           3             326   \n",
              "10  2012-10-02 19:00:00       None        62           3             326   \n",
              "11  2012-10-02 20:00:00       None        62           3             326   \n",
              "12  2012-10-02 21:00:00       None        61           4             325   \n",
              "13  2012-10-02 22:00:00       None        61           4             325   \n",
              "14  2012-10-02 23:00:00       None        60           4             324   \n",
              "15  2012-10-03 00:00:00       None        60           4             324   \n",
              "16  2012-10-03 01:00:00       None        59           4             324   \n",
              "17  2012-10-03 02:00:00       None        59           4             323   \n",
              "18  2012-10-03 03:00:00       None        58           4             323   \n",
              "19  2012-10-03 04:00:00       None        58           4             322   \n",
              "\n",
              "    visibility_in_miles  dew_point  temperature  rain_p_h  snow_p_h  \\\n",
              "0                     1          1       288.28       0.0       0.0   \n",
              "1                     1          1       289.36       0.0       0.0   \n",
              "2                     2          2       289.58       0.0       0.0   \n",
              "3                     5          5       290.13       0.0       0.0   \n",
              "4                     7          7       291.14       0.0       0.0   \n",
              "5                     6          6       291.72       0.0       0.0   \n",
              "6                     7          7       293.17       0.0       0.0   \n",
              "7                     7          7       293.86       0.0       0.0   \n",
              "8                     6          6       294.14       0.0       0.0   \n",
              "9                     3          3       293.10       0.0       0.0   \n",
              "10                    8          8       290.97       0.0       0.0   \n",
              "11                    5          5       289.38       0.0       0.0   \n",
              "12                    4          4       288.61       0.0       0.0   \n",
              "13                    7          7       287.16       0.0       0.0   \n",
              "14                    5          5       285.45       0.0       0.0   \n",
              "15                    2          2       284.63       0.0       0.0   \n",
              "16                    6          6       283.47       0.0       0.0   \n",
              "17                    1          1       281.18       0.0       0.0   \n",
              "18                    7          7       281.09       0.0       0.0   \n",
              "19                    4          4       279.53       0.0       0.0   \n",
              "\n",
              "    clouds_all weather_type  air_pollution_index  traffic_volume  \n",
              "0           40       Clouds                  121            5545  \n",
              "1           75       Clouds                  178            4516  \n",
              "2           90       Clouds                  113            4767  \n",
              "3           90       Clouds                   20            5026  \n",
              "4           75       Clouds                  281            4918  \n",
              "5            1        Clear                   23            5181  \n",
              "6            1        Clear                  184            5584  \n",
              "7            1        Clear                  167            6015  \n",
              "8           20       Clouds                  119            5791  \n",
              "9           20       Clouds                  161            4770  \n",
              "10          20       Clouds                  243            3539  \n",
              "11           1        Clear                  150            2784  \n",
              "12           1        Clear                  128            2361  \n",
              "13           1        Clear                   18            1529  \n",
              "14           1        Clear                  186             963  \n",
              "15           1        Clear                   58             506  \n",
              "16           1        Clear                  158             321  \n",
              "17           1        Clear                  166             273  \n",
              "18           1        Clear                  101             367  \n",
              "19           1        Clear                  161             814  "
            ]
          },
          "execution_count": 13,
          "metadata": {},
          "output_type": "execute_result"
        }
      ],
      "source": [
        "data.head(20)\n"
      ]
    },
    {
      "cell_type": "code",
      "execution_count": null,
      "id": "21220384",
      "metadata": {
        "id": "21220384",
        "outputId": "ba533e80-3a39-4482-8878-bb77ee616d49"
      },
      "outputs": [
        {
          "data": {
            "text/html": [
              "<div>\n",
              "<style scoped>\n",
              "    .dataframe tbody tr th:only-of-type {\n",
              "        vertical-align: middle;\n",
              "    }\n",
              "\n",
              "    .dataframe tbody tr th {\n",
              "        vertical-align: top;\n",
              "    }\n",
              "\n",
              "    .dataframe thead th {\n",
              "        text-align: right;\n",
              "    }\n",
              "</style>\n",
              "<table border=\"1\" class=\"dataframe\">\n",
              "  <thead>\n",
              "    <tr style=\"text-align: right;\">\n",
              "      <th></th>\n",
              "      <th>date_time</th>\n",
              "      <th>is_holiday</th>\n",
              "      <th>humidity</th>\n",
              "      <th>wind_speed</th>\n",
              "      <th>wind_direction</th>\n",
              "      <th>visibility_in_miles</th>\n",
              "      <th>dew_point</th>\n",
              "      <th>temperature</th>\n",
              "      <th>rain_p_h</th>\n",
              "      <th>snow_p_h</th>\n",
              "      <th>clouds_all</th>\n",
              "      <th>weather_type</th>\n",
              "      <th>air_pollution_index</th>\n",
              "      <th>traffic_volume</th>\n",
              "    </tr>\n",
              "  </thead>\n",
              "  <tbody>\n",
              "    <tr>\n",
              "      <th>100</th>\n",
              "      <td>2012-10-06 20:00:00</td>\n",
              "      <td>None</td>\n",
              "      <td>65</td>\n",
              "      <td>9</td>\n",
              "      <td>260</td>\n",
              "      <td>2</td>\n",
              "      <td>2</td>\n",
              "      <td>278.16</td>\n",
              "      <td>0.0</td>\n",
              "      <td>0.0</td>\n",
              "      <td>90</td>\n",
              "      <td>Clouds</td>\n",
              "      <td>67</td>\n",
              "      <td>3160</td>\n",
              "    </tr>\n",
              "    <tr>\n",
              "      <th>101</th>\n",
              "      <td>2012-10-06 21:00:00</td>\n",
              "      <td>None</td>\n",
              "      <td>70</td>\n",
              "      <td>8</td>\n",
              "      <td>250</td>\n",
              "      <td>1</td>\n",
              "      <td>1</td>\n",
              "      <td>277.93</td>\n",
              "      <td>0.0</td>\n",
              "      <td>0.0</td>\n",
              "      <td>90</td>\n",
              "      <td>Clouds</td>\n",
              "      <td>196</td>\n",
              "      <td>2992</td>\n",
              "    </tr>\n",
              "    <tr>\n",
              "      <th>102</th>\n",
              "      <td>2012-10-06 22:00:00</td>\n",
              "      <td>None</td>\n",
              "      <td>70</td>\n",
              "      <td>10</td>\n",
              "      <td>270</td>\n",
              "      <td>5</td>\n",
              "      <td>5</td>\n",
              "      <td>276.90</td>\n",
              "      <td>0.0</td>\n",
              "      <td>0.0</td>\n",
              "      <td>90</td>\n",
              "      <td>Clouds</td>\n",
              "      <td>65</td>\n",
              "      <td>3202</td>\n",
              "    </tr>\n",
              "    <tr>\n",
              "      <th>103</th>\n",
              "      <td>2012-10-06 23:00:00</td>\n",
              "      <td>None</td>\n",
              "      <td>70</td>\n",
              "      <td>12</td>\n",
              "      <td>260</td>\n",
              "      <td>5</td>\n",
              "      <td>5</td>\n",
              "      <td>276.34</td>\n",
              "      <td>0.0</td>\n",
              "      <td>0.0</td>\n",
              "      <td>75</td>\n",
              "      <td>Clouds</td>\n",
              "      <td>13</td>\n",
              "      <td>1941</td>\n",
              "    </tr>\n",
              "    <tr>\n",
              "      <th>104</th>\n",
              "      <td>2012-10-07 00:00:00</td>\n",
              "      <td>None</td>\n",
              "      <td>70</td>\n",
              "      <td>10</td>\n",
              "      <td>260</td>\n",
              "      <td>2</td>\n",
              "      <td>2</td>\n",
              "      <td>276.11</td>\n",
              "      <td>0.0</td>\n",
              "      <td>0.0</td>\n",
              "      <td>75</td>\n",
              "      <td>Clouds</td>\n",
              "      <td>294</td>\n",
              "      <td>1233</td>\n",
              "    </tr>\n",
              "    <tr>\n",
              "      <th>105</th>\n",
              "      <td>2012-10-07 03:00:00</td>\n",
              "      <td>None</td>\n",
              "      <td>70</td>\n",
              "      <td>12</td>\n",
              "      <td>270</td>\n",
              "      <td>6</td>\n",
              "      <td>6</td>\n",
              "      <td>275.73</td>\n",
              "      <td>0.0</td>\n",
              "      <td>0.0</td>\n",
              "      <td>90</td>\n",
              "      <td>Clouds</td>\n",
              "      <td>26</td>\n",
              "      <td>323</td>\n",
              "    </tr>\n",
              "    <tr>\n",
              "      <th>106</th>\n",
              "      <td>2012-10-07 04:00:00</td>\n",
              "      <td>None</td>\n",
              "      <td>70</td>\n",
              "      <td>8</td>\n",
              "      <td>260</td>\n",
              "      <td>7</td>\n",
              "      <td>7</td>\n",
              "      <td>275.65</td>\n",
              "      <td>0.0</td>\n",
              "      <td>0.0</td>\n",
              "      <td>90</td>\n",
              "      <td>Clouds</td>\n",
              "      <td>246</td>\n",
              "      <td>312</td>\n",
              "    </tr>\n",
              "    <tr>\n",
              "      <th>107</th>\n",
              "      <td>2012-10-07 05:00:00</td>\n",
              "      <td>None</td>\n",
              "      <td>70</td>\n",
              "      <td>7</td>\n",
              "      <td>270</td>\n",
              "      <td>4</td>\n",
              "      <td>4</td>\n",
              "      <td>275.51</td>\n",
              "      <td>0.0</td>\n",
              "      <td>0.0</td>\n",
              "      <td>75</td>\n",
              "      <td>Clouds</td>\n",
              "      <td>259</td>\n",
              "      <td>627</td>\n",
              "    </tr>\n",
              "    <tr>\n",
              "      <th>108</th>\n",
              "      <td>2012-10-07 06:00:00</td>\n",
              "      <td>None</td>\n",
              "      <td>52</td>\n",
              "      <td>8</td>\n",
              "      <td>280</td>\n",
              "      <td>9</td>\n",
              "      <td>9</td>\n",
              "      <td>275.05</td>\n",
              "      <td>0.0</td>\n",
              "      <td>0.0</td>\n",
              "      <td>90</td>\n",
              "      <td>Clouds</td>\n",
              "      <td>33</td>\n",
              "      <td>1508</td>\n",
              "    </tr>\n",
              "    <tr>\n",
              "      <th>109</th>\n",
              "      <td>2012-10-07 07:00:00</td>\n",
              "      <td>None</td>\n",
              "      <td>52</td>\n",
              "      <td>8</td>\n",
              "      <td>290</td>\n",
              "      <td>3</td>\n",
              "      <td>3</td>\n",
              "      <td>274.77</td>\n",
              "      <td>0.0</td>\n",
              "      <td>0.0</td>\n",
              "      <td>90</td>\n",
              "      <td>Clouds</td>\n",
              "      <td>125</td>\n",
              "      <td>1539</td>\n",
              "    </tr>\n",
              "    <tr>\n",
              "      <th>110</th>\n",
              "      <td>2012-10-07 08:00:00</td>\n",
              "      <td>None</td>\n",
              "      <td>52</td>\n",
              "      <td>5</td>\n",
              "      <td>280</td>\n",
              "      <td>9</td>\n",
              "      <td>9</td>\n",
              "      <td>274.77</td>\n",
              "      <td>0.0</td>\n",
              "      <td>0.0</td>\n",
              "      <td>75</td>\n",
              "      <td>Clouds</td>\n",
              "      <td>247</td>\n",
              "      <td>2232</td>\n",
              "    </tr>\n",
              "  </tbody>\n",
              "</table>\n",
              "</div>"
            ],
            "text/plain": [
              "               date_time is_holiday  humidity  wind_speed  wind_direction  \\\n",
              "100  2012-10-06 20:00:00       None        65           9             260   \n",
              "101  2012-10-06 21:00:00       None        70           8             250   \n",
              "102  2012-10-06 22:00:00       None        70          10             270   \n",
              "103  2012-10-06 23:00:00       None        70          12             260   \n",
              "104  2012-10-07 00:00:00       None        70          10             260   \n",
              "105  2012-10-07 03:00:00       None        70          12             270   \n",
              "106  2012-10-07 04:00:00       None        70           8             260   \n",
              "107  2012-10-07 05:00:00       None        70           7             270   \n",
              "108  2012-10-07 06:00:00       None        52           8             280   \n",
              "109  2012-10-07 07:00:00       None        52           8             290   \n",
              "110  2012-10-07 08:00:00       None        52           5             280   \n",
              "\n",
              "     visibility_in_miles  dew_point  temperature  rain_p_h  snow_p_h  \\\n",
              "100                    2          2       278.16       0.0       0.0   \n",
              "101                    1          1       277.93       0.0       0.0   \n",
              "102                    5          5       276.90       0.0       0.0   \n",
              "103                    5          5       276.34       0.0       0.0   \n",
              "104                    2          2       276.11       0.0       0.0   \n",
              "105                    6          6       275.73       0.0       0.0   \n",
              "106                    7          7       275.65       0.0       0.0   \n",
              "107                    4          4       275.51       0.0       0.0   \n",
              "108                    9          9       275.05       0.0       0.0   \n",
              "109                    3          3       274.77       0.0       0.0   \n",
              "110                    9          9       274.77       0.0       0.0   \n",
              "\n",
              "     clouds_all weather_type  air_pollution_index  traffic_volume  \n",
              "100          90       Clouds                   67            3160  \n",
              "101          90       Clouds                  196            2992  \n",
              "102          90       Clouds                   65            3202  \n",
              "103          75       Clouds                   13            1941  \n",
              "104          75       Clouds                  294            1233  \n",
              "105          90       Clouds                   26             323  \n",
              "106          90       Clouds                  246             312  \n",
              "107          75       Clouds                  259             627  \n",
              "108          90       Clouds                   33            1508  \n",
              "109          90       Clouds                  125            1539  \n",
              "110          75       Clouds                  247            2232  "
            ]
          },
          "execution_count": 15,
          "metadata": {},
          "output_type": "execute_result"
        }
      ],
      "source": [
        "data.loc[100:110]"
      ]
    },
    {
      "cell_type": "code",
      "execution_count": null,
      "id": "77ceb191",
      "metadata": {
        "id": "77ceb191",
        "outputId": "014b41bb-83af-4c4b-a8be-7b1454758a4b"
      },
      "outputs": [
        {
          "data": {
            "text/plain": [
              "(33750, 14)"
            ]
          },
          "execution_count": 16,
          "metadata": {},
          "output_type": "execute_result"
        }
      ],
      "source": [
        "data.shape"
      ]
    },
    {
      "cell_type": "code",
      "execution_count": null,
      "id": "3218c63b",
      "metadata": {
        "id": "3218c63b",
        "outputId": "1dde6f95-24ac-4e95-f896-3e0dc1514506"
      },
      "outputs": [
        {
          "data": {
            "text/plain": [
              "date_time              0\n",
              "is_holiday             0\n",
              "humidity               0\n",
              "wind_speed             0\n",
              "wind_direction         0\n",
              "visibility_in_miles    0\n",
              "dew_point              0\n",
              "temperature            0\n",
              "rain_p_h               0\n",
              "snow_p_h               0\n",
              "clouds_all             0\n",
              "weather_type           0\n",
              "air_pollution_index    0\n",
              "traffic_volume         0\n",
              "dtype: int64"
            ]
          },
          "execution_count": 17,
          "metadata": {},
          "output_type": "execute_result"
        }
      ],
      "source": [
        "data.isnull().sum()"
      ]
    },
    {
      "cell_type": "code",
      "execution_count": null,
      "id": "aa3e79ad",
      "metadata": {
        "id": "aa3e79ad",
        "outputId": "9e43c0ed-9043-4c1c-a84d-edcd4c6382e0"
      },
      "outputs": [
        {
          "name": "stdout",
          "output_type": "stream",
          "text": [
            "<class 'pandas.core.frame.DataFrame'>\n",
            "RangeIndex: 33750 entries, 0 to 33749\n",
            "Data columns (total 14 columns):\n",
            " #   Column               Non-Null Count  Dtype  \n",
            "---  ------               --------------  -----  \n",
            " 0   date_time            33750 non-null  object \n",
            " 1   is_holiday           33750 non-null  object \n",
            " 2   humidity             33750 non-null  int64  \n",
            " 3   wind_speed           33750 non-null  int64  \n",
            " 4   wind_direction       33750 non-null  int64  \n",
            " 5   visibility_in_miles  33750 non-null  int64  \n",
            " 6   dew_point            33750 non-null  int64  \n",
            " 7   temperature          33750 non-null  float64\n",
            " 8   rain_p_h             33750 non-null  float64\n",
            " 9   snow_p_h             33750 non-null  float64\n",
            " 10  clouds_all           33750 non-null  int64  \n",
            " 11  weather_type         33750 non-null  object \n",
            " 12  air_pollution_index  33750 non-null  int64  \n",
            " 13  traffic_volume       33750 non-null  int64  \n",
            "dtypes: float64(3), int64(8), object(3)\n",
            "memory usage: 3.6+ MB\n"
          ]
        }
      ],
      "source": [
        "data.info()"
      ]
    },
    {
      "cell_type": "code",
      "execution_count": null,
      "id": "59cf0991",
      "metadata": {
        "id": "59cf0991"
      },
      "outputs": [],
      "source": [
        "qualitative=[x for x in data.columns if data[x].dtypes=='O']"
      ]
    },
    {
      "cell_type": "code",
      "execution_count": null,
      "id": "85d3cefe",
      "metadata": {
        "id": "85d3cefe",
        "outputId": "0a25d10b-47a8-4507-a5f4-46b99f5bdb3b"
      },
      "outputs": [
        {
          "data": {
            "text/plain": [
              "['date_time', 'is_holiday', 'weather_type']"
            ]
          },
          "execution_count": 23,
          "metadata": {},
          "output_type": "execute_result"
        }
      ],
      "source": [
        "qualitative"
      ]
    },
    {
      "cell_type": "code",
      "execution_count": null,
      "id": "e68efc06",
      "metadata": {
        "id": "e68efc06"
      },
      "outputs": [],
      "source": [
        "Continuous= [x for x in data.columns if data[x].dtypes!='O' and len(data[x].unique())>=25]"
      ]
    },
    {
      "cell_type": "code",
      "execution_count": null,
      "id": "7af1a6b2",
      "metadata": {
        "id": "7af1a6b2",
        "outputId": "c4381198-6a4d-45da-a2d1-b55e570834f2"
      },
      "outputs": [
        {
          "data": {
            "text/plain": [
              "['humidity',\n",
              " 'wind_direction',\n",
              " 'temperature',\n",
              " 'rain_p_h',\n",
              " 'clouds_all',\n",
              " 'air_pollution_index',\n",
              " 'traffic_volume']"
            ]
          },
          "execution_count": 25,
          "metadata": {},
          "output_type": "execute_result"
        }
      ],
      "source": [
        "Continuous"
      ]
    },
    {
      "cell_type": "code",
      "execution_count": null,
      "id": "d92a4367",
      "metadata": {
        "id": "d92a4367"
      },
      "outputs": [],
      "source": [
        "discrete = [x for x in data.columns if data[x].dtypes!='O' and len(data[x].unique())<25]"
      ]
    },
    {
      "cell_type": "code",
      "execution_count": null,
      "id": "50df2426",
      "metadata": {
        "id": "50df2426",
        "outputId": "2719ef19-f534-440a-f2f1-e7e71df69cc6"
      },
      "outputs": [
        {
          "data": {
            "text/plain": [
              "['wind_speed', 'visibility_in_miles', 'dew_point', 'snow_p_h']"
            ]
          },
          "execution_count": 27,
          "metadata": {},
          "output_type": "execute_result"
        }
      ],
      "source": [
        "discrete"
      ]
    },
    {
      "cell_type": "code",
      "execution_count": null,
      "id": "e7b15a88",
      "metadata": {
        "id": "e7b15a88",
        "outputId": "fdf38044-6d37-4c13-de79-5aa517fb0b72"
      },
      "outputs": [
        {
          "data": {
            "text/plain": [
              "88"
            ]
          },
          "execution_count": 28,
          "metadata": {},
          "output_type": "execute_result"
        }
      ],
      "source": [
        "len(data['humidity'].unique())"
      ]
    },
    {
      "cell_type": "code",
      "execution_count": null,
      "id": "3baf0981",
      "metadata": {
        "id": "3baf0981",
        "outputId": "07e863d5-98a8-4c30-f7d6-55c7dc797fa5"
      },
      "outputs": [
        {
          "data": {
            "image/png": "[encoded data removed]",
            "text/plain": [
              "<Figure size 432x288 with 1 Axes>"
            ]
          },
          "metadata": {
            "needs_background": "light"
          },
          "output_type": "display_data"
        },
        {
          "data": {
            "image/png": "[encoded data removed]",
            "text/plain": [
              "<Figure size 432x288 with 1 Axes>"
            ]
          },
          "metadata": {
            "needs_background": "light"
          },
          "output_type": "display_data"
        },
        {
          "data": {
            "image/png": "[encoded data removed]",
            "text/plain": [
              "<Figure size 432x288 with 1 Axes>"
            ]
          },
          "metadata": {
            "needs_background": "light"
          },
          "output_type": "display_data"
        },
        {
          "data": {
            "image/png": "[encoded data removed]",
            "text/plain": [
              "<Figure size 432x288 with 1 Axes>"
            ]
          },
          "metadata": {
            "needs_background": "light"
          },
          "output_type": "display_data"
        },
        {
          "data": {
            "image/png": "[encoded data removed]",
            "text/plain": [
              "<Figure size 432x288 with 1 Axes>"
            ]
          },
          "metadata": {
            "needs_background": "light"
          },
          "output_type": "display_data"
        },
        {
          "data": {
            "image/png": "[encoded data removed]",
            "text/plain": [
              "<Figure size 432x288 with 1 Axes>"
            ]
          },
          "metadata": {
            "needs_background": "light"
          },
          "output_type": "display_data"
        },
        {
          "data": {
            "image/png": "[encoded data removed]",
            "text/plain": [
              "<Figure size 432x288 with 1 Axes>"
            ]
          },
          "metadata": {
            "needs_background": "light"
          },
          "output_type": "display_data"
        }
      ],
      "source": [
        "for x in Continuous:\n",
        "    sns.histplot(data[x], kde= True, color='yellow')\n",
        "    plt.show()"
      ]
    },
    {
      "cell_type": "code",
      "execution_count": null,
      "id": "4de37a32",
      "metadata": {
        "scrolled": true,
        "id": "4de37a32",
        "outputId": "cfe8a80e-83bf-4a39-8cb8-9235b87fe774"
      },
      "outputs": [
        {
          "name": "stdout",
          "output_type": "stream",
          "text": [
            "['humidity', 'wind_direction', 'temperature', 'clouds_all', 'air_pollution_index', 'traffic_volume'] ['rain_p_h']\n"
          ]
        }
      ],
      "source": [
        "left_skew = [ x for x in Continuous if data[x].skew()<0]\n",
        "right_skew = [ x for x in Continuous if data[x].skew()>0]\n",
        "print (left_skew,right_skew)"
      ]
    },
    {
      "cell_type": "code",
      "execution_count": null,
      "id": "8b50906c",
      "metadata": {
        "id": "8b50906c"
      },
      "outputs": [],
      "source": [
        "lepto=[ x for x in Continuous if data[x].kurtosis()>3]\n",
        "meso=[ x for x in Continuous if data[x].kurtosis()==3]\n",
        "plat=[ x for x in Continuous if data[x].kurtosis()<3]"
      ]
    },
    {
      "cell_type": "code",
      "execution_count": null,
      "id": "5c8ca6d6",
      "metadata": {
        "scrolled": true,
        "id": "5c8ca6d6",
        "outputId": "5b264581-d041-4c21-a973-138c8f357382"
      },
      "outputs": [
        {
          "name": "stdout",
          "output_type": "stream",
          "text": [
            "['temperature', 'rain_p_h'] [] ['humidity', 'wind_direction', 'clouds_all', 'air_pollution_index', 'traffic_volume']\n"
          ]
        }
      ],
      "source": [
        "print(lepto,meso,plat)"
      ]
    },
    {
      "cell_type": "code",
      "execution_count": null,
      "id": "82466dc7",
      "metadata": {
        "id": "82466dc7",
        "outputId": "b7a97f7a-483c-460d-886a-e3d1fbd30bc8"
      },
      "outputs": [
        {
          "data": {
            "image/png": "[encoded data removed]",
            "text/plain": [
              "<Figure size 432x288 with 1 Axes>"
            ]
          },
          "metadata": {
            "needs_background": "light"
          },
          "output_type": "display_data"
        },
        {
          "data": {
            "image/png": "[encoded data removed]",
            "text/plain": [
              "<Figure size 432x288 with 1 Axes>"
            ]
          },
          "metadata": {
            "needs_background": "light"
          },
          "output_type": "display_data"
        },
        {
          "data": {
            "image/png": "[encoded data removed]",
            "text/plain": [
              "<Figure size 432x288 with 1 Axes>"
            ]
          },
          "metadata": {
            "needs_background": "light"
          },
          "output_type": "display_data"
        },
        {
          "data": {
            "image/png": "[encoded data removed]",
            "text/plain": [
              "<Figure size 432x288 with 1 Axes>"
            ]
          },
          "metadata": {
            "needs_background": "light"
          },
          "output_type": "display_data"
        },
        {
          "data": {
            "image/png": "[encoded data removed]",
            "text/plain": [
              "<Figure size 432x288 with 1 Axes>"
            ]
          },
          "metadata": {
            "needs_background": "light"
          },
          "output_type": "display_data"
        },
        {
          "data": {
            "image/png": "[encoded data removed]",
            "text/plain": [
              "<Figure size 432x288 with 1 Axes>"
            ]
          },
          "metadata": {
            "needs_background": "light"
          },
          "output_type": "display_data"
        },
        {
          "data": {
            "image/png": "[encoded data removed]",
            "text/plain": [
              "<Figure size 432x288 with 1 Axes>"
            ]
          },
          "metadata": {
            "needs_background": "light"
          },
          "output_type": "display_data"
        }
      ],
      "source": [
        "for x in Continuous:\n",
        "    data.boxplot(column=x)\n",
        "    plt.show()"
      ]
    },
    {
      "cell_type": "code",
      "execution_count": null,
      "id": "ba596be3",
      "metadata": {
        "id": "ba596be3",
        "outputId": "f6e6119d-eb85-4673-8bb4-82cab591907b"
      },
      "outputs": [
        {
          "data": {
            "text/html": [
              "<div>\n",
              "<style scoped>\n",
              "    .dataframe tbody tr th:only-of-type {\n",
              "        vertical-align: middle;\n",
              "    }\n",
              "\n",
              "    .dataframe tbody tr th {\n",
              "        vertical-align: top;\n",
              "    }\n",
              "\n",
              "    .dataframe thead th {\n",
              "        text-align: right;\n",
              "    }\n",
              "</style>\n",
              "<table border=\"1\" class=\"dataframe\">\n",
              "  <thead>\n",
              "    <tr style=\"text-align: right;\">\n",
              "      <th></th>\n",
              "      <th>humidity</th>\n",
              "      <th>wind_direction</th>\n",
              "      <th>temperature</th>\n",
              "      <th>rain_p_h</th>\n",
              "      <th>clouds_all</th>\n",
              "      <th>air_pollution_index</th>\n",
              "      <th>traffic_volume</th>\n",
              "    </tr>\n",
              "  </thead>\n",
              "  <tbody>\n",
              "    <tr>\n",
              "      <th>count</th>\n",
              "      <td>33750.000000</td>\n",
              "      <td>33750.000000</td>\n",
              "      <td>33750.000000</td>\n",
              "      <td>33750.000000</td>\n",
              "      <td>33750.000000</td>\n",
              "      <td>33750.000000</td>\n",
              "      <td>33750.000000</td>\n",
              "    </tr>\n",
              "    <tr>\n",
              "      <th>mean</th>\n",
              "      <td>71.209007</td>\n",
              "      <td>199.471852</td>\n",
              "      <td>280.069587</td>\n",
              "      <td>0.448739</td>\n",
              "      <td>50.458785</td>\n",
              "      <td>154.841422</td>\n",
              "      <td>3240.118163</td>\n",
              "    </tr>\n",
              "    <tr>\n",
              "      <th>std</th>\n",
              "      <td>16.852248</td>\n",
              "      <td>99.841088</td>\n",
              "      <td>13.415256</td>\n",
              "      <td>53.526500</td>\n",
              "      <td>38.871734</td>\n",
              "      <td>83.735515</td>\n",
              "      <td>1991.487289</td>\n",
              "    </tr>\n",
              "    <tr>\n",
              "      <th>min</th>\n",
              "      <td>13.000000</td>\n",
              "      <td>0.000000</td>\n",
              "      <td>0.000000</td>\n",
              "      <td>0.000000</td>\n",
              "      <td>0.000000</td>\n",
              "      <td>10.000000</td>\n",
              "      <td>0.000000</td>\n",
              "    </tr>\n",
              "    <tr>\n",
              "      <th>25%</th>\n",
              "      <td>60.000000</td>\n",
              "      <td>130.000000</td>\n",
              "      <td>271.720000</td>\n",
              "      <td>0.000000</td>\n",
              "      <td>1.000000</td>\n",
              "      <td>83.000000</td>\n",
              "      <td>1165.250000</td>\n",
              "    </tr>\n",
              "    <tr>\n",
              "      <th>50%</th>\n",
              "      <td>72.000000</td>\n",
              "      <td>200.000000</td>\n",
              "      <td>280.150000</td>\n",
              "      <td>0.000000</td>\n",
              "      <td>64.000000</td>\n",
              "      <td>155.000000</td>\n",
              "      <td>3335.000000</td>\n",
              "    </tr>\n",
              "    <tr>\n",
              "      <th>75%</th>\n",
              "      <td>85.000000</td>\n",
              "      <td>290.000000</td>\n",
              "      <td>290.620000</td>\n",
              "      <td>0.000000</td>\n",
              "      <td>90.000000</td>\n",
              "      <td>228.000000</td>\n",
              "      <td>4926.000000</td>\n",
              "    </tr>\n",
              "    <tr>\n",
              "      <th>max</th>\n",
              "      <td>100.000000</td>\n",
              "      <td>360.000000</td>\n",
              "      <td>308.240000</td>\n",
              "      <td>9831.300000</td>\n",
              "      <td>100.000000</td>\n",
              "      <td>299.000000</td>\n",
              "      <td>7280.000000</td>\n",
              "    </tr>\n",
              "  </tbody>\n",
              "</table>\n",
              "</div>"
            ],
            "text/plain": [
              "           humidity  wind_direction   temperature      rain_p_h    clouds_all  \\\n",
              "count  33750.000000    33750.000000  33750.000000  33750.000000  33750.000000   \n",
              "mean      71.209007      199.471852    280.069587      0.448739     50.458785   \n",
              "std       16.852248       99.841088     13.415256     53.526500     38.871734   \n",
              "min       13.000000        0.000000      0.000000      0.000000      0.000000   \n",
              "25%       60.000000      130.000000    271.720000      0.000000      1.000000   \n",
              "50%       72.000000      200.000000    280.150000      0.000000     64.000000   \n",
              "75%       85.000000      290.000000    290.620000      0.000000     90.000000   \n",
              "max      100.000000      360.000000    308.240000   9831.300000    100.000000   \n",
              "\n",
              "       air_pollution_index  traffic_volume  \n",
              "count         33750.000000    33750.000000  \n",
              "mean            154.841422     3240.118163  \n",
              "std              83.735515     1991.487289  \n",
              "min              10.000000        0.000000  \n",
              "25%              83.000000     1165.250000  \n",
              "50%             155.000000     3335.000000  \n",
              "75%             228.000000     4926.000000  \n",
              "max             299.000000     7280.000000  "
            ]
          },
          "execution_count": 41,
          "metadata": {},
          "output_type": "execute_result"
        }
      ],
      "source": [
        "data[Continuous].describe()"
      ]
    },
    {
      "cell_type": "code",
      "execution_count": null,
      "id": "a294304b",
      "metadata": {
        "id": "a294304b",
        "outputId": "ddcc0ecc-61ad-4d7d-d4a4-6e2f8c98ef17"
      },
      "outputs": [
        {
          "data": {
            "image/png": "[encoded data removed]",
            "text/plain": [
              "<Figure size 432x288 with 1 Axes>"
            ]
          },
          "metadata": {
            "needs_background": "light"
          },
          "output_type": "display_data"
        },
        {
          "data": {
            "image/png": "[encoded data removed]",
            "text/plain": [
              "<Figure size 432x288 with 1 Axes>"
            ]
          },
          "metadata": {
            "needs_background": "light"
          },
          "output_type": "display_data"
        },
        {
          "data": {
            "image/png": "[encoded data removed]",
            "text/plain": [
              "<Figure size 432x288 with 1 Axes>"
            ]
          },
          "metadata": {
            "needs_background": "light"
          },
          "output_type": "display_data"
        },
        {
          "data": {
            "image/png": "[encoded data removed]",
            "text/plain": [
              "<Figure size 432x288 with 1 Axes>"
            ]
          },
          "metadata": {
            "needs_background": "light"
          },
          "output_type": "display_data"
        }
      ],
      "source": [
        "for x in discrete:\n",
        "    data.groupby(x)['air_pollution_index'].median().sort_values().plot.barh()\n",
        "    plt.show()"
      ]
    },
    {
      "cell_type": "code",
      "execution_count": null,
      "id": "9b278f54",
      "metadata": {
        "id": "9b278f54",
        "outputId": "2050f3db-a4bd-43be-ab55-0d4154aa4aab"
      },
      "outputs": [
        {
          "data": {
            "image/png": "[encoded data removed]",
            "text/plain": [
              "<Figure size 432x288 with 1 Axes>"
            ]
          },
          "metadata": {
            "needs_background": "light"
          },
          "output_type": "display_data"
        },
        {
          "data": {
            "image/png": "[encoded data removed]",
            "text/plain": [
              "<Figure size 432x288 with 1 Axes>"
            ]
          },
          "metadata": {
            "needs_background": "light"
          },
          "output_type": "display_data"
        }
      ],
      "source": [
        "for x in qualitative[1:]:\n",
        "    data.groupby(x)['air_pollution_index'].median().sort_values().plot.barh()\n",
        "    plt.show()"
      ]
    },
    {
      "cell_type": "code",
      "execution_count": null,
      "id": "40df3ff4",
      "metadata": {
        "id": "40df3ff4",
        "outputId": "4a106eeb-8707-4ccf-c349-bba88539e21e"
      },
      "outputs": [
        {
          "data": {
            "text/html": [
              "<div>\n",
              "<style scoped>\n",
              "    .dataframe tbody tr th:only-of-type {\n",
              "        vertical-align: middle;\n",
              "    }\n",
              "\n",
              "    .dataframe tbody tr th {\n",
              "        vertical-align: top;\n",
              "    }\n",
              "\n",
              "    .dataframe thead th {\n",
              "        text-align: right;\n",
              "    }\n",
              "</style>\n",
              "<table border=\"1\" class=\"dataframe\">\n",
              "  <thead>\n",
              "    <tr style=\"text-align: right;\">\n",
              "      <th></th>\n",
              "      <th>humidity</th>\n",
              "      <th>wind_speed</th>\n",
              "      <th>wind_direction</th>\n",
              "      <th>visibility_in_miles</th>\n",
              "      <th>dew_point</th>\n",
              "      <th>temperature</th>\n",
              "      <th>rain_p_h</th>\n",
              "      <th>snow_p_h</th>\n",
              "      <th>clouds_all</th>\n",
              "      <th>air_pollution_index</th>\n",
              "      <th>traffic_volume</th>\n",
              "    </tr>\n",
              "  </thead>\n",
              "  <tbody>\n",
              "    <tr>\n",
              "      <th>humidity</th>\n",
              "      <td>1.000000</td>\n",
              "      <td>-0.147042</td>\n",
              "      <td>-0.046268</td>\n",
              "      <td>0.005510</td>\n",
              "      <td>0.005510</td>\n",
              "      <td>0.033273</td>\n",
              "      <td>-0.012161</td>\n",
              "      <td>0.016625</td>\n",
              "      <td>0.014520</td>\n",
              "      <td>-0.000277</td>\n",
              "      <td>0.016455</td>\n",
              "    </tr>\n",
              "    <tr>\n",
              "      <th>wind_speed</th>\n",
              "      <td>-0.147042</td>\n",
              "      <td>1.000000</td>\n",
              "      <td>0.191320</td>\n",
              "      <td>-0.005160</td>\n",
              "      <td>-0.005160</td>\n",
              "      <td>-0.052856</td>\n",
              "      <td>0.001165</td>\n",
              "      <td>-0.006534</td>\n",
              "      <td>-0.004456</td>\n",
              "      <td>-0.004166</td>\n",
              "      <td>0.016329</td>\n",
              "    </tr>\n",
              "    <tr>\n",
              "      <th>wind_direction</th>\n",
              "      <td>-0.046268</td>\n",
              "      <td>0.191320</td>\n",
              "      <td>1.000000</td>\n",
              "      <td>0.000716</td>\n",
              "      <td>0.000716</td>\n",
              "      <td>-0.045843</td>\n",
              "      <td>0.002230</td>\n",
              "      <td>0.000321</td>\n",
              "      <td>0.020392</td>\n",
              "      <td>0.000749</td>\n",
              "      <td>0.014278</td>\n",
              "    </tr>\n",
              "    <tr>\n",
              "      <th>visibility_in_miles</th>\n",
              "      <td>0.005510</td>\n",
              "      <td>-0.005160</td>\n",
              "      <td>0.000716</td>\n",
              "      <td>1.000000</td>\n",
              "      <td>1.000000</td>\n",
              "      <td>0.000760</td>\n",
              "      <td>-0.008301</td>\n",
              "      <td>0.001453</td>\n",
              "      <td>-0.001582</td>\n",
              "      <td>0.003499</td>\n",
              "      <td>0.001348</td>\n",
              "    </tr>\n",
              "    <tr>\n",
              "      <th>dew_point</th>\n",
              "      <td>0.005510</td>\n",
              "      <td>-0.005160</td>\n",
              "      <td>0.000716</td>\n",
              "      <td>1.000000</td>\n",
              "      <td>1.000000</td>\n",
              "      <td>0.000760</td>\n",
              "      <td>-0.008301</td>\n",
              "      <td>0.001453</td>\n",
              "      <td>-0.001582</td>\n",
              "      <td>0.003499</td>\n",
              "      <td>0.001348</td>\n",
              "    </tr>\n",
              "    <tr>\n",
              "      <th>temperature</th>\n",
              "      <td>0.033273</td>\n",
              "      <td>-0.052856</td>\n",
              "      <td>-0.045843</td>\n",
              "      <td>0.000760</td>\n",
              "      <td>0.000760</td>\n",
              "      <td>1.000000</td>\n",
              "      <td>0.011071</td>\n",
              "      <td>-0.020721</td>\n",
              "      <td>-0.121334</td>\n",
              "      <td>0.005368</td>\n",
              "      <td>0.127871</td>\n",
              "    </tr>\n",
              "    <tr>\n",
              "      <th>rain_p_h</th>\n",
              "      <td>-0.012161</td>\n",
              "      <td>0.001165</td>\n",
              "      <td>0.002230</td>\n",
              "      <td>-0.008301</td>\n",
              "      <td>-0.008301</td>\n",
              "      <td>0.011071</td>\n",
              "      <td>1.000000</td>\n",
              "      <td>-0.000159</td>\n",
              "      <td>0.005206</td>\n",
              "      <td>0.000443</td>\n",
              "      <td>0.005642</td>\n",
              "    </tr>\n",
              "    <tr>\n",
              "      <th>snow_p_h</th>\n",
              "      <td>0.016625</td>\n",
              "      <td>-0.006534</td>\n",
              "      <td>0.000321</td>\n",
              "      <td>0.001453</td>\n",
              "      <td>0.001453</td>\n",
              "      <td>-0.020721</td>\n",
              "      <td>-0.000159</td>\n",
              "      <td>1.000000</td>\n",
              "      <td>0.032591</td>\n",
              "      <td>0.007227</td>\n",
              "      <td>0.001197</td>\n",
              "    </tr>\n",
              "    <tr>\n",
              "      <th>clouds_all</th>\n",
              "      <td>0.014520</td>\n",
              "      <td>-0.004456</td>\n",
              "      <td>0.020392</td>\n",
              "      <td>-0.001582</td>\n",
              "      <td>-0.001582</td>\n",
              "      <td>-0.121334</td>\n",
              "      <td>0.005206</td>\n",
              "      <td>0.032591</td>\n",
              "      <td>1.000000</td>\n",
              "      <td>-0.008541</td>\n",
              "      <td>0.037922</td>\n",
              "    </tr>\n",
              "    <tr>\n",
              "      <th>air_pollution_index</th>\n",
              "      <td>-0.000277</td>\n",
              "      <td>-0.004166</td>\n",
              "      <td>0.000749</td>\n",
              "      <td>0.003499</td>\n",
              "      <td>0.003499</td>\n",
              "      <td>0.005368</td>\n",
              "      <td>0.000443</td>\n",
              "      <td>0.007227</td>\n",
              "      <td>-0.008541</td>\n",
              "      <td>1.000000</td>\n",
              "      <td>-0.003751</td>\n",
              "    </tr>\n",
              "    <tr>\n",
              "      <th>traffic_volume</th>\n",
              "      <td>0.016455</td>\n",
              "      <td>0.016329</td>\n",
              "      <td>0.014278</td>\n",
              "      <td>0.001348</td>\n",
              "      <td>0.001348</td>\n",
              "      <td>0.127871</td>\n",
              "      <td>0.005642</td>\n",
              "      <td>0.001197</td>\n",
              "      <td>0.037922</td>\n",
              "      <td>-0.003751</td>\n",
              "      <td>1.000000</td>\n",
              "    </tr>\n",
              "  </tbody>\n",
              "</table>\n",
              "</div>"
            ],
            "text/plain": [
              "                     humidity  wind_speed  wind_direction  \\\n",
              "humidity             1.000000   -0.147042       -0.046268   \n",
              "wind_speed          -0.147042    1.000000        0.191320   \n",
              "wind_direction      -0.046268    0.191320        1.000000   \n",
              "visibility_in_miles  0.005510   -0.005160        0.000716   \n",
              "dew_point            0.005510   -0.005160        0.000716   \n",
              "temperature          0.033273   -0.052856       -0.045843   \n",
              "rain_p_h            -0.012161    0.001165        0.002230   \n",
              "snow_p_h             0.016625   -0.006534        0.000321   \n",
              "clouds_all           0.014520   -0.004456        0.020392   \n",
              "air_pollution_index -0.000277   -0.004166        0.000749   \n",
              "traffic_volume       0.016455    0.016329        0.014278   \n",
              "\n",
              "                     visibility_in_miles  dew_point  temperature  rain_p_h  \\\n",
              "humidity                        0.005510   0.005510     0.033273 -0.012161   \n",
              "wind_speed                     -0.005160  -0.005160    -0.052856  0.001165   \n",
              "wind_direction                  0.000716   0.000716    -0.045843  0.002230   \n",
              "visibility_in_miles             1.000000   1.000000     0.000760 -0.008301   \n",
              "dew_point                       1.000000   1.000000     0.000760 -0.008301   \n",
              "temperature                     0.000760   0.000760     1.000000  0.011071   \n",
              "rain_p_h                       -0.008301  -0.008301     0.011071  1.000000   \n",
              "snow_p_h                        0.001453   0.001453    -0.020721 -0.000159   \n",
              "clouds_all                     -0.001582  -0.001582    -0.121334  0.005206   \n",
              "air_pollution_index             0.003499   0.003499     0.005368  0.000443   \n",
              "traffic_volume                  0.001348   0.001348     0.127871  0.005642   \n",
              "\n",
              "                     snow_p_h  clouds_all  air_pollution_index  traffic_volume  \n",
              "humidity             0.016625    0.014520            -0.000277        0.016455  \n",
              "wind_speed          -0.006534   -0.004456            -0.004166        0.016329  \n",
              "wind_direction       0.000321    0.020392             0.000749        0.014278  \n",
              "visibility_in_miles  0.001453   -0.001582             0.003499        0.001348  \n",
              "dew_point            0.001453   -0.001582             0.003499        0.001348  \n",
              "temperature         -0.020721   -0.121334             0.005368        0.127871  \n",
              "rain_p_h            -0.000159    0.005206             0.000443        0.005642  \n",
              "snow_p_h             1.000000    0.032591             0.007227        0.001197  \n",
              "clouds_all           0.032591    1.000000            -0.008541        0.037922  \n",
              "air_pollution_index  0.007227   -0.008541             1.000000       -0.003751  \n",
              "traffic_volume       0.001197    0.037922            -0.003751        1.000000  "
            ]
          },
          "execution_count": 46,
          "metadata": {},
          "output_type": "execute_result"
        }
      ],
      "source": [
        "data.corr()"
      ]
    },
    {
      "cell_type": "code",
      "execution_count": null,
      "id": "3d7ad634",
      "metadata": {
        "id": "3d7ad634",
        "outputId": "be6044a9-ecfe-44ad-d3e1-7283d369171e"
      },
      "outputs": [
        {
          "data": {
            "text/plain": [
              "<AxesSubplot:>"
            ]
          },
          "execution_count": 47,
          "metadata": {},
          "output_type": "execute_result"
        },
        {
          "data": {
            "image/png": "[encoded data removed]",
            "text/plain": [
              "<Figure size 432x288 with 2 Axes>"
            ]
          },
          "metadata": {
            "needs_background": "light"
          },
          "output_type": "display_data"
        }
      ],
      "source": [
        "sns.heatmap(data.corr())"
      ]
    },
    {
      "cell_type": "code",
      "execution_count": null,
      "id": "d481ac1c",
      "metadata": {
        "id": "d481ac1c",
        "outputId": "b48c2252-f125-4995-bc44-87faa93f071d"
      },
      "outputs": [
        {
          "data": {
            "image/png": "[encoded data removed]",
            "text/plain": [
              "<Figure size 720x720 with 2 Axes>"
            ]
          },
          "metadata": {
            "needs_background": "light"
          },
          "output_type": "display_data"
        }
      ],
      "source": [
        "plt.figure(figsize=(10,10))\n",
        "sns.heatmap(data.corr(),annot=True,cmap='RdYlGn')\n",
        "plt.show()"
      ]
    },
    {
      "cell_type": "markdown",
      "id": "9f3d0f4c",
      "metadata": {
        "id": "9f3d0f4c"
      },
      "source": [
        "## Model Building"
      ]
    },
    {
      "cell_type": "code",
      "execution_count": null,
      "id": "88875db5",
      "metadata": {
        "id": "88875db5",
        "outputId": "93222fe0-f194-4d19-c826-7fad8ba764bf"
      },
      "outputs": [
        {
          "name": "stdout",
          "output_type": "stream",
          "text": [
            "Collecting sklearn\n",
            "  Downloading sklearn-0.0.post1.tar.gz (3.6 kB)\n",
            "Building wheels for collected packages: sklearn\n",
            "  Building wheel for sklearn (setup.py) ... \u001b[?25ldone\n",
            "\u001b[?25h  Created wheel for sklearn: filename=sklearn-0.0.post1-py3-none-any.whl size=2959 sha256=f68f6d85cba60b4cc63b52a183a22e64cf68841523dd3866575d3af36bb873e1\n",
            "  Stored in directory: /Users/harirajpandin/Library/Caches/pip/wheels/f8/e0/3d/9d0c2020c44a519b9f02ab4fa6d2a4a996c98d79ab2f569fa1\n",
            "Successfully built sklearn\n",
            "Installing collected packages: sklearn\n",
            "Successfully installed sklearn-0.0.post1\n",
            "Note: you may need to restart the kernel to use updated packages.\n"
          ]
        }
      ],
      "source": [
        "pip install sklearn"
      ]
    },
    {
      "cell_type": "code",
      "execution_count": null,
      "id": "7a4e6e46",
      "metadata": {
        "id": "7a4e6e46",
        "outputId": "156159e1-dba7-421a-c5d7-e1754d3b38e5"
      },
      "outputs": [
        {
          "data": {
            "text/plain": [
              "array(['None', 'Columbus Day', 'Veterans Day', 'Thanksgiving Day',\n",
              "       'Christmas Day', 'New Years Day', 'Washingtons Birthday',\n",
              "       'Memorial Day', 'Independence Day', 'State Fair', 'Labor Day',\n",
              "       'Martin Luther King Jr Day'], dtype=object)"
            ]
          },
          "execution_count": 51,
          "metadata": {},
          "output_type": "execute_result"
        }
      ],
      "source": [
        "data['is_holiday'].unique()"
      ]
    },
    {
      "cell_type": "code",
      "execution_count": null,
      "id": "f63f883f",
      "metadata": {
        "id": "f63f883f"
      },
      "outputs": [],
      "source": [
        "from sklearn.preprocessing import LabelEncoder\n",
        "\n",
        "encode_is_holiday=LabelEncoder()\n",
        "encode_is_holiday.fit(data['is_holiday'])\n",
        "data['is_holiday']=encode_is_holiday.transform(data['is_holiday'])"
      ]
    },
    {
      "cell_type": "code",
      "execution_count": null,
      "id": "f97675b1",
      "metadata": {
        "id": "f97675b1",
        "outputId": "2bd7a8b5-b33b-429a-d99a-714d55f669c1"
      },
      "outputs": [
        {
          "data": {
            "text/html": [
              "<div>\n",
              "<style scoped>\n",
              "    .dataframe tbody tr th:only-of-type {\n",
              "        vertical-align: middle;\n",
              "    }\n",
              "\n",
              "    .dataframe tbody tr th {\n",
              "        vertical-align: top;\n",
              "    }\n",
              "\n",
              "    .dataframe thead th {\n",
              "        text-align: right;\n",
              "    }\n",
              "</style>\n",
              "<table border=\"1\" class=\"dataframe\">\n",
              "  <thead>\n",
              "    <tr style=\"text-align: right;\">\n",
              "      <th></th>\n",
              "      <th>date_time</th>\n",
              "      <th>is_holiday</th>\n",
              "      <th>weather_type</th>\n",
              "    </tr>\n",
              "  </thead>\n",
              "  <tbody>\n",
              "    <tr>\n",
              "      <th>0</th>\n",
              "      <td>2012-10-02 09:00:00</td>\n",
              "      <td>7</td>\n",
              "      <td>Clouds</td>\n",
              "    </tr>\n",
              "    <tr>\n",
              "      <th>1</th>\n",
              "      <td>2012-10-02 10:00:00</td>\n",
              "      <td>7</td>\n",
              "      <td>Clouds</td>\n",
              "    </tr>\n",
              "    <tr>\n",
              "      <th>2</th>\n",
              "      <td>2012-10-02 11:00:00</td>\n",
              "      <td>7</td>\n",
              "      <td>Clouds</td>\n",
              "    </tr>\n",
              "    <tr>\n",
              "      <th>3</th>\n",
              "      <td>2012-10-02 12:00:00</td>\n",
              "      <td>7</td>\n",
              "      <td>Clouds</td>\n",
              "    </tr>\n",
              "    <tr>\n",
              "      <th>4</th>\n",
              "      <td>2012-10-02 13:00:00</td>\n",
              "      <td>7</td>\n",
              "      <td>Clouds</td>\n",
              "    </tr>\n",
              "    <tr>\n",
              "      <th>...</th>\n",
              "      <td>...</td>\n",
              "      <td>...</td>\n",
              "      <td>...</td>\n",
              "    </tr>\n",
              "    <tr>\n",
              "      <th>33745</th>\n",
              "      <td>2017-05-17 21:00:00</td>\n",
              "      <td>7</td>\n",
              "      <td>Mist</td>\n",
              "    </tr>\n",
              "    <tr>\n",
              "      <th>33746</th>\n",
              "      <td>2017-05-17 22:00:00</td>\n",
              "      <td>7</td>\n",
              "      <td>Rain</td>\n",
              "    </tr>\n",
              "    <tr>\n",
              "      <th>33747</th>\n",
              "      <td>2017-05-17 22:00:00</td>\n",
              "      <td>7</td>\n",
              "      <td>Mist</td>\n",
              "    </tr>\n",
              "    <tr>\n",
              "      <th>33748</th>\n",
              "      <td>2017-05-17 23:00:00</td>\n",
              "      <td>7</td>\n",
              "      <td>Rain</td>\n",
              "    </tr>\n",
              "    <tr>\n",
              "      <th>33749</th>\n",
              "      <td>2017-05-17 23:00:00</td>\n",
              "      <td>7</td>\n",
              "      <td>Mist</td>\n",
              "    </tr>\n",
              "  </tbody>\n",
              "</table>\n",
              "<p>33750 rows × 3 columns</p>\n",
              "</div>"
            ],
            "text/plain": [
              "                 date_time  is_holiday weather_type\n",
              "0      2012-10-02 09:00:00           7       Clouds\n",
              "1      2012-10-02 10:00:00           7       Clouds\n",
              "2      2012-10-02 11:00:00           7       Clouds\n",
              "3      2012-10-02 12:00:00           7       Clouds\n",
              "4      2012-10-02 13:00:00           7       Clouds\n",
              "...                    ...         ...          ...\n",
              "33745  2017-05-17 21:00:00           7         Mist\n",
              "33746  2017-05-17 22:00:00           7         Rain\n",
              "33747  2017-05-17 22:00:00           7         Mist\n",
              "33748  2017-05-17 23:00:00           7         Rain\n",
              "33749  2017-05-17 23:00:00           7         Mist\n",
              "\n",
              "[33750 rows x 3 columns]"
            ]
          },
          "execution_count": 53,
          "metadata": {},
          "output_type": "execute_result"
        }
      ],
      "source": [
        "data[qualitative]"
      ]
    },
    {
      "cell_type": "code",
      "execution_count": null,
      "id": "1b16b8a0",
      "metadata": {
        "id": "1b16b8a0"
      },
      "outputs": [],
      "source": [
        "encode_weather_type=LabelEncoder()\n",
        "encode_weather_type.fit(data['weather_type'])\n",
        "data['weather_type']=encode_weather_type.transform(data['weather_type'])"
      ]
    },
    {
      "cell_type": "code",
      "execution_count": null,
      "id": "0085c489",
      "metadata": {
        "id": "0085c489",
        "outputId": "286b48a6-32fc-4667-c7d9-8d2753c8e8fc"
      },
      "outputs": [
        {
          "data": {
            "text/html": [
              "<div>\n",
              "<style scoped>\n",
              "    .dataframe tbody tr th:only-of-type {\n",
              "        vertical-align: middle;\n",
              "    }\n",
              "\n",
              "    .dataframe tbody tr th {\n",
              "        vertical-align: top;\n",
              "    }\n",
              "\n",
              "    .dataframe thead th {\n",
              "        text-align: right;\n",
              "    }\n",
              "</style>\n",
              "<table border=\"1\" class=\"dataframe\">\n",
              "  <thead>\n",
              "    <tr style=\"text-align: right;\">\n",
              "      <th></th>\n",
              "      <th>date_time</th>\n",
              "      <th>is_holiday</th>\n",
              "      <th>weather_type</th>\n",
              "    </tr>\n",
              "  </thead>\n",
              "  <tbody>\n",
              "    <tr>\n",
              "      <th>0</th>\n",
              "      <td>2012-10-02 09:00:00</td>\n",
              "      <td>7</td>\n",
              "      <td>1</td>\n",
              "    </tr>\n",
              "    <tr>\n",
              "      <th>1</th>\n",
              "      <td>2012-10-02 10:00:00</td>\n",
              "      <td>7</td>\n",
              "      <td>1</td>\n",
              "    </tr>\n",
              "    <tr>\n",
              "      <th>2</th>\n",
              "      <td>2012-10-02 11:00:00</td>\n",
              "      <td>7</td>\n",
              "      <td>1</td>\n",
              "    </tr>\n",
              "    <tr>\n",
              "      <th>3</th>\n",
              "      <td>2012-10-02 12:00:00</td>\n",
              "      <td>7</td>\n",
              "      <td>1</td>\n",
              "    </tr>\n",
              "    <tr>\n",
              "      <th>4</th>\n",
              "      <td>2012-10-02 13:00:00</td>\n",
              "      <td>7</td>\n",
              "      <td>1</td>\n",
              "    </tr>\n",
              "    <tr>\n",
              "      <th>...</th>\n",
              "      <td>...</td>\n",
              "      <td>...</td>\n",
              "      <td>...</td>\n",
              "    </tr>\n",
              "    <tr>\n",
              "      <th>33745</th>\n",
              "      <td>2017-05-17 21:00:00</td>\n",
              "      <td>7</td>\n",
              "      <td>5</td>\n",
              "    </tr>\n",
              "    <tr>\n",
              "      <th>33746</th>\n",
              "      <td>2017-05-17 22:00:00</td>\n",
              "      <td>7</td>\n",
              "      <td>6</td>\n",
              "    </tr>\n",
              "    <tr>\n",
              "      <th>33747</th>\n",
              "      <td>2017-05-17 22:00:00</td>\n",
              "      <td>7</td>\n",
              "      <td>5</td>\n",
              "    </tr>\n",
              "    <tr>\n",
              "      <th>33748</th>\n",
              "      <td>2017-05-17 23:00:00</td>\n",
              "      <td>7</td>\n",
              "      <td>6</td>\n",
              "    </tr>\n",
              "    <tr>\n",
              "      <th>33749</th>\n",
              "      <td>2017-05-17 23:00:00</td>\n",
              "      <td>7</td>\n",
              "      <td>5</td>\n",
              "    </tr>\n",
              "  </tbody>\n",
              "</table>\n",
              "<p>33750 rows × 3 columns</p>\n",
              "</div>"
            ],
            "text/plain": [
              "                 date_time  is_holiday  weather_type\n",
              "0      2012-10-02 09:00:00           7             1\n",
              "1      2012-10-02 10:00:00           7             1\n",
              "2      2012-10-02 11:00:00           7             1\n",
              "3      2012-10-02 12:00:00           7             1\n",
              "4      2012-10-02 13:00:00           7             1\n",
              "...                    ...         ...           ...\n",
              "33745  2017-05-17 21:00:00           7             5\n",
              "33746  2017-05-17 22:00:00           7             6\n",
              "33747  2017-05-17 22:00:00           7             5\n",
              "33748  2017-05-17 23:00:00           7             6\n",
              "33749  2017-05-17 23:00:00           7             5\n",
              "\n",
              "[33750 rows x 3 columns]"
            ]
          },
          "execution_count": 56,
          "metadata": {},
          "output_type": "execute_result"
        }
      ],
      "source": [
        "data[qualitative]"
      ]
    },
    {
      "cell_type": "code",
      "execution_count": null,
      "id": "b3fd51e3",
      "metadata": {
        "id": "b3fd51e3"
      },
      "outputs": [],
      "source": [
        "x=data.iloc[:,1:-2]"
      ]
    },
    {
      "cell_type": "code",
      "execution_count": null,
      "id": "264d856e",
      "metadata": {
        "id": "264d856e",
        "outputId": "e34051b7-e918-418b-9795-e34936a3f7c3"
      },
      "outputs": [
        {
          "data": {
            "text/html": [
              "<div>\n",
              "<style scoped>\n",
              "    .dataframe tbody tr th:only-of-type {\n",
              "        vertical-align: middle;\n",
              "    }\n",
              "\n",
              "    .dataframe tbody tr th {\n",
              "        vertical-align: top;\n",
              "    }\n",
              "\n",
              "    .dataframe thead th {\n",
              "        text-align: right;\n",
              "    }\n",
              "</style>\n",
              "<table border=\"1\" class=\"dataframe\">\n",
              "  <thead>\n",
              "    <tr style=\"text-align: right;\">\n",
              "      <th></th>\n",
              "      <th>is_holiday</th>\n",
              "      <th>humidity</th>\n",
              "      <th>wind_speed</th>\n",
              "      <th>wind_direction</th>\n",
              "      <th>visibility_in_miles</th>\n",
              "      <th>dew_point</th>\n",
              "      <th>temperature</th>\n",
              "      <th>rain_p_h</th>\n",
              "      <th>snow_p_h</th>\n",
              "      <th>clouds_all</th>\n",
              "      <th>weather_type</th>\n",
              "    </tr>\n",
              "  </thead>\n",
              "  <tbody>\n",
              "    <tr>\n",
              "      <th>0</th>\n",
              "      <td>7</td>\n",
              "      <td>89</td>\n",
              "      <td>2</td>\n",
              "      <td>329</td>\n",
              "      <td>1</td>\n",
              "      <td>1</td>\n",
              "      <td>288.28</td>\n",
              "      <td>0.0</td>\n",
              "      <td>0.0</td>\n",
              "      <td>40</td>\n",
              "      <td>1</td>\n",
              "    </tr>\n",
              "    <tr>\n",
              "      <th>1</th>\n",
              "      <td>7</td>\n",
              "      <td>67</td>\n",
              "      <td>3</td>\n",
              "      <td>330</td>\n",
              "      <td>1</td>\n",
              "      <td>1</td>\n",
              "      <td>289.36</td>\n",
              "      <td>0.0</td>\n",
              "      <td>0.0</td>\n",
              "      <td>75</td>\n",
              "      <td>1</td>\n",
              "    </tr>\n",
              "    <tr>\n",
              "      <th>2</th>\n",
              "      <td>7</td>\n",
              "      <td>66</td>\n",
              "      <td>3</td>\n",
              "      <td>329</td>\n",
              "      <td>2</td>\n",
              "      <td>2</td>\n",
              "      <td>289.58</td>\n",
              "      <td>0.0</td>\n",
              "      <td>0.0</td>\n",
              "      <td>90</td>\n",
              "      <td>1</td>\n",
              "    </tr>\n",
              "    <tr>\n",
              "      <th>3</th>\n",
              "      <td>7</td>\n",
              "      <td>66</td>\n",
              "      <td>3</td>\n",
              "      <td>329</td>\n",
              "      <td>5</td>\n",
              "      <td>5</td>\n",
              "      <td>290.13</td>\n",
              "      <td>0.0</td>\n",
              "      <td>0.0</td>\n",
              "      <td>90</td>\n",
              "      <td>1</td>\n",
              "    </tr>\n",
              "    <tr>\n",
              "      <th>4</th>\n",
              "      <td>7</td>\n",
              "      <td>65</td>\n",
              "      <td>3</td>\n",
              "      <td>329</td>\n",
              "      <td>7</td>\n",
              "      <td>7</td>\n",
              "      <td>291.14</td>\n",
              "      <td>0.0</td>\n",
              "      <td>0.0</td>\n",
              "      <td>75</td>\n",
              "      <td>1</td>\n",
              "    </tr>\n",
              "    <tr>\n",
              "      <th>...</th>\n",
              "      <td>...</td>\n",
              "      <td>...</td>\n",
              "      <td>...</td>\n",
              "      <td>...</td>\n",
              "      <td>...</td>\n",
              "      <td>...</td>\n",
              "      <td>...</td>\n",
              "      <td>...</td>\n",
              "      <td>...</td>\n",
              "      <td>...</td>\n",
              "      <td>...</td>\n",
              "    </tr>\n",
              "    <tr>\n",
              "      <th>33745</th>\n",
              "      <td>7</td>\n",
              "      <td>85</td>\n",
              "      <td>1</td>\n",
              "      <td>328</td>\n",
              "      <td>7</td>\n",
              "      <td>7</td>\n",
              "      <td>287.88</td>\n",
              "      <td>0.0</td>\n",
              "      <td>0.0</td>\n",
              "      <td>90</td>\n",
              "      <td>5</td>\n",
              "    </tr>\n",
              "    <tr>\n",
              "      <th>33746</th>\n",
              "      <td>7</td>\n",
              "      <td>70</td>\n",
              "      <td>1</td>\n",
              "      <td>24</td>\n",
              "      <td>2</td>\n",
              "      <td>2</td>\n",
              "      <td>286.95</td>\n",
              "      <td>0.0</td>\n",
              "      <td>0.0</td>\n",
              "      <td>90</td>\n",
              "      <td>6</td>\n",
              "    </tr>\n",
              "    <tr>\n",
              "      <th>33747</th>\n",
              "      <td>7</td>\n",
              "      <td>70</td>\n",
              "      <td>1</td>\n",
              "      <td>24</td>\n",
              "      <td>1</td>\n",
              "      <td>1</td>\n",
              "      <td>286.95</td>\n",
              "      <td>0.0</td>\n",
              "      <td>0.0</td>\n",
              "      <td>90</td>\n",
              "      <td>5</td>\n",
              "    </tr>\n",
              "    <tr>\n",
              "      <th>33748</th>\n",
              "      <td>7</td>\n",
              "      <td>66</td>\n",
              "      <td>1</td>\n",
              "      <td>42</td>\n",
              "      <td>6</td>\n",
              "      <td>6</td>\n",
              "      <td>285.75</td>\n",
              "      <td>0.0</td>\n",
              "      <td>0.0</td>\n",
              "      <td>90</td>\n",
              "      <td>6</td>\n",
              "    </tr>\n",
              "    <tr>\n",
              "      <th>33749</th>\n",
              "      <td>7</td>\n",
              "      <td>63</td>\n",
              "      <td>1</td>\n",
              "      <td>27</td>\n",
              "      <td>8</td>\n",
              "      <td>8</td>\n",
              "      <td>285.75</td>\n",
              "      <td>0.0</td>\n",
              "      <td>0.0</td>\n",
              "      <td>90</td>\n",
              "      <td>5</td>\n",
              "    </tr>\n",
              "  </tbody>\n",
              "</table>\n",
              "<p>33750 rows × 11 columns</p>\n",
              "</div>"
            ],
            "text/plain": [
              "       is_holiday  humidity  wind_speed  wind_direction  visibility_in_miles  \\\n",
              "0               7        89           2             329                    1   \n",
              "1               7        67           3             330                    1   \n",
              "2               7        66           3             329                    2   \n",
              "3               7        66           3             329                    5   \n",
              "4               7        65           3             329                    7   \n",
              "...           ...       ...         ...             ...                  ...   \n",
              "33745           7        85           1             328                    7   \n",
              "33746           7        70           1              24                    2   \n",
              "33747           7        70           1              24                    1   \n",
              "33748           7        66           1              42                    6   \n",
              "33749           7        63           1              27                    8   \n",
              "\n",
              "       dew_point  temperature  rain_p_h  snow_p_h  clouds_all  weather_type  \n",
              "0              1       288.28       0.0       0.0          40             1  \n",
              "1              1       289.36       0.0       0.0          75             1  \n",
              "2              2       289.58       0.0       0.0          90             1  \n",
              "3              5       290.13       0.0       0.0          90             1  \n",
              "4              7       291.14       0.0       0.0          75             1  \n",
              "...          ...          ...       ...       ...         ...           ...  \n",
              "33745          7       287.88       0.0       0.0          90             5  \n",
              "33746          2       286.95       0.0       0.0          90             6  \n",
              "33747          1       286.95       0.0       0.0          90             5  \n",
              "33748          6       285.75       0.0       0.0          90             6  \n",
              "33749          8       285.75       0.0       0.0          90             5  \n",
              "\n",
              "[33750 rows x 11 columns]"
            ]
          },
          "execution_count": 58,
          "metadata": {},
          "output_type": "execute_result"
        }
      ],
      "source": [
        "x"
      ]
    },
    {
      "cell_type": "code",
      "execution_count": null,
      "id": "9f2e697b",
      "metadata": {
        "id": "9f2e697b"
      },
      "outputs": [],
      "source": [
        "y=data.iloc[:,-2]"
      ]
    },
    {
      "cell_type": "code",
      "execution_count": null,
      "id": "7add1401",
      "metadata": {
        "id": "7add1401",
        "outputId": "4220bc7a-b713-4895-bcee-80fc573fd555"
      },
      "outputs": [
        {
          "data": {
            "text/plain": [
              "0        121\n",
              "1        178\n",
              "2        113\n",
              "3         20\n",
              "4        281\n",
              "        ... \n",
              "33745     74\n",
              "33746     81\n",
              "33747    138\n",
              "33748    229\n",
              "33749    140\n",
              "Name: air_pollution_index, Length: 33750, dtype: int64"
            ]
          },
          "execution_count": 61,
          "metadata": {},
          "output_type": "execute_result"
        }
      ],
      "source": [
        "y"
      ]
    },
    {
      "cell_type": "code",
      "execution_count": null,
      "id": "b1b1cf4a",
      "metadata": {
        "id": "b1b1cf4a"
      },
      "outputs": [],
      "source": [
        "from sklearn.model_selection import train_test_split\n",
        "x_train,x_test,y_train,y_test=train_test_split(x,y,test_size=0.3,random_state=0)"
      ]
    },
    {
      "cell_type": "code",
      "execution_count": null,
      "id": "dafd77d8",
      "metadata": {
        "id": "dafd77d8"
      },
      "outputs": [],
      "source": [
        "from sklearn.preprocessing import StandardScaler\n",
        "\n",
        "scaler=StandardScaler()\n",
        "\n",
        "x_train=scaler.fit_transform(x_train)\n",
        "x_test=scaler.transform(x_test)"
      ]
    },
    {
      "cell_type": "code",
      "execution_count": null,
      "id": "7ee1f460",
      "metadata": {
        "id": "7ee1f460"
      },
      "outputs": [],
      "source": [
        "from sklearn.linear_model import LinearRegression\n",
        "\n",
        "lr= LinearRegression()\n",
        "model=lr.fit(x_train,y_train)\n",
        "y_pred=model.predict(x_test)"
      ]
    },
    {
      "cell_type": "code",
      "execution_count": null,
      "id": "b523226a",
      "metadata": {
        "id": "b523226a",
        "outputId": "6470399e-2cde-4974-d7fe-a0b9ed95f738"
      },
      "outputs": [
        {
          "data": {
            "text/plain": [
              "array([155.8661354 , 154.71374517, 155.96237763, ..., 155.78489884,\n",
              "       155.9198948 , 154.35637915])"
            ]
          },
          "execution_count": 66,
          "metadata": {},
          "output_type": "execute_result"
        }
      ],
      "source": [
        "y_pred"
      ]
    },
    {
      "cell_type": "code",
      "execution_count": null,
      "id": "aa2af134",
      "metadata": {
        "id": "aa2af134",
        "outputId": "5f59dac0-8e5e-4268-b0aa-eab7463e1ba6"
      },
      "outputs": [
        {
          "data": {
            "text/plain": [
              "84.22905236135897"
            ]
          },
          "execution_count": 67,
          "metadata": {},
          "output_type": "execute_result"
        }
      ],
      "source": [
        "from sklearn.metrics import mean_squared_error, r2_score\n",
        "import math \n",
        "\n",
        "math.sqrt(mean_squared_error(y_test,y_pred))"
      ]
    },
    {
      "cell_type": "code",
      "execution_count": null,
      "id": "2765ac61",
      "metadata": {
        "id": "2765ac61",
        "outputId": "6773b3c0-0305-4cb3-d41f-5fd662697bd5"
      },
      "outputs": [
        {
          "data": {
            "text/plain": [
              "-0.0005234173314703217"
            ]
          },
          "execution_count": 68,
          "metadata": {},
          "output_type": "execute_result"
        }
      ],
      "source": [
        "r2_score(y_test,y_pred)"
      ]
    },
    {
      "cell_type": "code",
      "execution_count": null,
      "id": "ed35462b",
      "metadata": {
        "id": "ed35462b"
      },
      "outputs": [],
      "source": []
    }
  ],
  "metadata": {
    "kernelspec": {
      "display_name": "Python 3 (ipykernel)",
      "language": "python",
      "name": "python3"
    },
    "language_info": {
      "codemirror_mode": {
        "name": "ipython",
        "version": 3
      },
      "file_extension": ".py",
      "mimetype": "text/x-python",
      "name": "python",
      "nbconvert_exporter": "python",
      "pygments_lexer": "ipython3",
      "version": "3.9.12"
    },
    "colab": {
      "provenance": []
    }
  },
  "nbformat": 4,
  "nbformat_minor": 5
}